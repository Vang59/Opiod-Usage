{
 "cells": [
  {
   "cell_type": "code",
   "execution_count": 1,
   "id": "a57a7095",
   "metadata": {},
   "outputs": [],
   "source": [
    "# Import data.csv\n",
    "import pandas as pd"
   ]
  },
  {
   "cell_type": "code",
   "execution_count": 26,
   "id": "a11ea31c",
   "metadata": {},
   "outputs": [
    {
     "data": {
      "text/html": [
       "<div>\n",
       "<style scoped>\n",
       "    .dataframe tbody tr th:only-of-type {\n",
       "        vertical-align: middle;\n",
       "    }\n",
       "\n",
       "    .dataframe tbody tr th {\n",
       "        vertical-align: top;\n",
       "    }\n",
       "\n",
       "    .dataframe thead th {\n",
       "        text-align: right;\n",
       "    }\n",
       "</style>\n",
       "<table border=\"1\" class=\"dataframe\">\n",
       "  <thead>\n",
       "    <tr style=\"text-align: right;\">\n",
       "      <th></th>\n",
       "      <th>utilization_type</th>\n",
       "      <th>state</th>\n",
       "      <th>ndc</th>\n",
       "      <th>labeler_code</th>\n",
       "      <th>product_code</th>\n",
       "      <th>package_size</th>\n",
       "      <th>year</th>\n",
       "      <th>quarter</th>\n",
       "      <th>product_name</th>\n",
       "      <th>units_reimbursed</th>\n",
       "      <th>number_of_prescriptions</th>\n",
       "      <th>total_amount_reimbursed</th>\n",
       "      <th>medicaid_amount_reimbursed</th>\n",
       "      <th>non_medicaid_amount_reimbursed</th>\n",
       "    </tr>\n",
       "  </thead>\n",
       "  <tbody>\n",
       "    <tr>\n",
       "      <th>0</th>\n",
       "      <td>FFSU</td>\n",
       "      <td>AK</td>\n",
       "      <td>74433907</td>\n",
       "      <td>74</td>\n",
       "      <td>4339</td>\n",
       "      <td>7</td>\n",
       "      <td>2020</td>\n",
       "      <td>2</td>\n",
       "      <td>HUMIRA PEN</td>\n",
       "      <td>NaN</td>\n",
       "      <td>NaN</td>\n",
       "      <td>NaN</td>\n",
       "      <td>NaN</td>\n",
       "      <td>NaN</td>\n",
       "    </tr>\n",
       "    <tr>\n",
       "      <th>1</th>\n",
       "      <td>FFSU</td>\n",
       "      <td>AK</td>\n",
       "      <td>93504501</td>\n",
       "      <td>93</td>\n",
       "      <td>5045</td>\n",
       "      <td>1</td>\n",
       "      <td>2020</td>\n",
       "      <td>3</td>\n",
       "      <td>DEXMETHYLP</td>\n",
       "      <td>NaN</td>\n",
       "      <td>NaN</td>\n",
       "      <td>NaN</td>\n",
       "      <td>NaN</td>\n",
       "      <td>NaN</td>\n",
       "    </tr>\n",
       "    <tr>\n",
       "      <th>2</th>\n",
       "      <td>FFSU</td>\n",
       "      <td>AK</td>\n",
       "      <td>143988601</td>\n",
       "      <td>143</td>\n",
       "      <td>9886</td>\n",
       "      <td>1</td>\n",
       "      <td>2020</td>\n",
       "      <td>3</td>\n",
       "      <td>AMOXICILLI</td>\n",
       "      <td>NaN</td>\n",
       "      <td>NaN</td>\n",
       "      <td>NaN</td>\n",
       "      <td>NaN</td>\n",
       "      <td>NaN</td>\n",
       "    </tr>\n",
       "    <tr>\n",
       "      <th>3</th>\n",
       "      <td>FFSU</td>\n",
       "      <td>AK</td>\n",
       "      <td>536106210</td>\n",
       "      <td>536</td>\n",
       "      <td>1062</td>\n",
       "      <td>10</td>\n",
       "      <td>2020</td>\n",
       "      <td>1</td>\n",
       "      <td>STOOL SOFT</td>\n",
       "      <td>NaN</td>\n",
       "      <td>NaN</td>\n",
       "      <td>NaN</td>\n",
       "      <td>NaN</td>\n",
       "      <td>NaN</td>\n",
       "    </tr>\n",
       "    <tr>\n",
       "      <th>4</th>\n",
       "      <td>FFSU</td>\n",
       "      <td>AK</td>\n",
       "      <td>23155010305</td>\n",
       "      <td>23155</td>\n",
       "      <td>103</td>\n",
       "      <td>5</td>\n",
       "      <td>2020</td>\n",
       "      <td>4</td>\n",
       "      <td>METFORMIN</td>\n",
       "      <td>NaN</td>\n",
       "      <td>NaN</td>\n",
       "      <td>NaN</td>\n",
       "      <td>NaN</td>\n",
       "      <td>NaN</td>\n",
       "    </tr>\n",
       "  </tbody>\n",
       "</table>\n",
       "</div>"
      ],
      "text/plain": [
       "  utilization_type state          ndc  labeler_code  product_code  \\\n",
       "0             FFSU    AK     74433907            74          4339   \n",
       "1             FFSU    AK     93504501            93          5045   \n",
       "2             FFSU    AK    143988601           143          9886   \n",
       "3             FFSU    AK    536106210           536          1062   \n",
       "4             FFSU    AK  23155010305         23155           103   \n",
       "\n",
       "   package_size  year  quarter product_name  units_reimbursed  \\\n",
       "0             7  2020        2   HUMIRA PEN               NaN   \n",
       "1             1  2020        3   DEXMETHYLP               NaN   \n",
       "2             1  2020        3   AMOXICILLI               NaN   \n",
       "3            10  2020        1   STOOL SOFT               NaN   \n",
       "4             5  2020        4    METFORMIN               NaN   \n",
       "\n",
       "   number_of_prescriptions  total_amount_reimbursed  \\\n",
       "0                      NaN                      NaN   \n",
       "1                      NaN                      NaN   \n",
       "2                      NaN                      NaN   \n",
       "3                      NaN                      NaN   \n",
       "4                      NaN                      NaN   \n",
       "\n",
       "   medicaid_amount_reimbursed  non_medicaid_amount_reimbursed  \n",
       "0                         NaN                             NaN  \n",
       "1                         NaN                             NaN  \n",
       "2                         NaN                             NaN  \n",
       "3                         NaN                             NaN  \n",
       "4                         NaN                             NaN  "
      ]
     },
     "execution_count": 26,
     "metadata": {},
     "output_type": "execute_result"
    }
   ],
   "source": [
    "# Read csv\n",
    "data_df = \"data.csv\"\n",
    "data=pd.read_csv(data_df)\n",
    "data.head()"
   ]
  },
  {
   "cell_type": "code",
   "execution_count": 27,
   "id": "65c6e59e",
   "metadata": {},
   "outputs": [
    {
     "data": {
      "text/plain": [
       "(1048575, 14)"
      ]
     },
     "execution_count": 27,
     "metadata": {},
     "output_type": "execute_result"
    }
   ],
   "source": [
    "data.shape"
   ]
  },
  {
   "cell_type": "code",
   "execution_count": 25,
   "id": "fe038812",
   "metadata": {},
   "outputs": [
    {
     "data": {
      "text/plain": [
       "Index(['utilization_type', 'state', 'ndc', 'labeler_code', 'product_code',\n",
       "       'package_size', 'year', 'quarter', 'product_name', 'units_reimbursed',\n",
       "       'number_of_prescriptions', 'total_amount_reimbursed',\n",
       "       'medicaid_amount_reimbursed', 'non_medicaid_amount_reimbursed'],\n",
       "      dtype='object')"
      ]
     },
     "execution_count": 25,
     "metadata": {},
     "output_type": "execute_result"
    }
   ],
   "source": [
    "data.columns"
   ]
  },
  {
   "cell_type": "code",
   "execution_count": 30,
   "id": "20446ebb",
   "metadata": {},
   "outputs": [
    {
     "ename": "TypeError",
     "evalue": "'DataFrame' object is not callable",
     "output_type": "error",
     "traceback": [
      "\u001b[1;31m---------------------------------------------------------------------------\u001b[0m",
      "\u001b[1;31mTypeError\u001b[0m                                 Traceback (most recent call last)",
      "\u001b[1;32m~\\AppData\\Local\\Temp\\ipykernel_488\\2076300527.py\u001b[0m in \u001b[0;36m<module>\u001b[1;34m\u001b[0m\n\u001b[0;32m      1\u001b[0m new_data = data(['utilization_type', 'state', 'ndc', 'labeler_code', 'product_code',\n\u001b[1;32m----> 2\u001b[1;33m        'package_size', 'year', 'quarter', 'product_name'])\n\u001b[0m\u001b[0;32m      3\u001b[0m \u001b[1;33m\u001b[0m\u001b[0m\n\u001b[0;32m      4\u001b[0m \u001b[1;31m#df = pd.read_csv('test.csv')\u001b[0m\u001b[1;33m\u001b[0m\u001b[1;33m\u001b[0m\u001b[1;33m\u001b[0m\u001b[0m\n\u001b[0;32m      5\u001b[0m \u001b[1;31m#df.drop(columns=['col2'], inplace=True)\u001b[0m\u001b[1;33m\u001b[0m\u001b[1;33m\u001b[0m\u001b[1;33m\u001b[0m\u001b[0m\n",
      "\u001b[1;31mTypeError\u001b[0m: 'DataFrame' object is not callable"
     ]
    }
   ],
   "source": [
    "new_data = data(['utilization_type', 'state', 'ndc', 'labeler_code', 'product_code',\n",
    "       'package_size', 'year', 'quarter', 'product_name'])\n",
    "\n",
    "#df = pd.read_csv('test.csv')\n",
    "#df.drop(columns=['col2'], inplace=True)"
   ]
  },
  {
   "cell_type": "code",
   "execution_count": null,
   "id": "cc4940bb",
   "metadata": {},
   "outputs": [],
   "source": []
  }
 ],
 "metadata": {
  "kernelspec": {
   "display_name": "Python 3 (ipykernel)",
   "language": "python",
   "name": "python3"
  },
  "language_info": {
   "codemirror_mode": {
    "name": "ipython",
    "version": 3
   },
   "file_extension": ".py",
   "mimetype": "text/x-python",
   "name": "python",
   "nbconvert_exporter": "python",
   "pygments_lexer": "ipython3",
   "version": "3.7.7"
  }
 },
 "nbformat": 4,
 "nbformat_minor": 5
}
